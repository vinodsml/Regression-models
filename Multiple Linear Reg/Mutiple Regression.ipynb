{
 "cells": [
  {
   "cell_type": "code",
   "execution_count": 1,
   "metadata": {},
   "outputs": [],
   "source": [
    "import numpy as np\n",
    "import pandas as pd\n",
    "import matplotlib.pyplot as plt"
   ]
  },
  {
   "cell_type": "code",
   "execution_count": 2,
   "metadata": {},
   "outputs": [
    {
     "data": {
      "text/html": [
       "<div>\n",
       "<style scoped>\n",
       "    .dataframe tbody tr th:only-of-type {\n",
       "        vertical-align: middle;\n",
       "    }\n",
       "\n",
       "    .dataframe tbody tr th {\n",
       "        vertical-align: top;\n",
       "    }\n",
       "\n",
       "    .dataframe thead th {\n",
       "        text-align: right;\n",
       "    }\n",
       "</style>\n",
       "<table border=\"1\" class=\"dataframe\">\n",
       "  <thead>\n",
       "    <tr style=\"text-align: right;\">\n",
       "      <th></th>\n",
       "      <th>AREA</th>\n",
       "      <th>FLOOR</th>\n",
       "      <th>ROOM</th>\n",
       "      <th>CODE</th>\n",
       "      <th>PRICE</th>\n",
       "    </tr>\n",
       "  </thead>\n",
       "  <tbody>\n",
       "    <tr>\n",
       "      <th>0</th>\n",
       "      <td>1000</td>\n",
       "      <td>7</td>\n",
       "      <td>2</td>\n",
       "      <td>B</td>\n",
       "      <td>5618</td>\n",
       "    </tr>\n",
       "    <tr>\n",
       "      <th>1</th>\n",
       "      <td>1030</td>\n",
       "      <td>7</td>\n",
       "      <td>1</td>\n",
       "      <td>A</td>\n",
       "      <td>5201</td>\n",
       "    </tr>\n",
       "    <tr>\n",
       "      <th>2</th>\n",
       "      <td>1060</td>\n",
       "      <td>1</td>\n",
       "      <td>1</td>\n",
       "      <td>A</td>\n",
       "      <td>4779</td>\n",
       "    </tr>\n",
       "    <tr>\n",
       "      <th>3</th>\n",
       "      <td>1090</td>\n",
       "      <td>6</td>\n",
       "      <td>1</td>\n",
       "      <td>A</td>\n",
       "      <td>5425</td>\n",
       "    </tr>\n",
       "    <tr>\n",
       "      <th>4</th>\n",
       "      <td>1120</td>\n",
       "      <td>0</td>\n",
       "      <td>2</td>\n",
       "      <td>B</td>\n",
       "      <td>5657</td>\n",
       "    </tr>\n",
       "  </tbody>\n",
       "</table>\n",
       "</div>"
      ],
      "text/plain": [
       "   AREA  FLOOR  ROOM CODE  PRICE\n",
       "0  1000      7     2    B   5618\n",
       "1  1030      7     1    A   5201\n",
       "2  1060      1     1    A   4779\n",
       "3  1090      6     1    A   5425\n",
       "4  1120      0     2    B   5657"
      ]
     },
     "execution_count": 2,
     "metadata": {},
     "output_type": "execute_result"
    }
   ],
   "source": [
    "dataset=pd.read_csv(\"housing_prices_MLR.csv\")\n",
    "dataset.head()"
   ]
  },
  {
   "cell_type": "code",
   "execution_count": 3,
   "metadata": {},
   "outputs": [
    {
     "data": {
      "text/plain": [
       "False"
      ]
     },
     "execution_count": 3,
     "metadata": {},
     "output_type": "execute_result"
    }
   ],
   "source": [
    "dataset.isnull().values.any()"
   ]
  },
  {
   "cell_type": "code",
   "execution_count": 4,
   "metadata": {},
   "outputs": [],
   "source": [
    "x=dataset.iloc[0:, 0:4]\n",
    "y=dataset.iloc[0:, 4:]\n",
    "x=x.values\n",
    "y=y.values\n"
   ]
  },
  {
   "cell_type": "code",
   "execution_count": 5,
   "metadata": {},
   "outputs": [
    {
     "data": {
      "text/plain": [
       "array([[0.0, 1.0, 1000, 7, 2],\n",
       "       [1.0, 0.0, 1030, 7, 1],\n",
       "       [1.0, 0.0, 1060, 1, 1],\n",
       "       [1.0, 0.0, 1090, 6, 1],\n",
       "       [0.0, 1.0, 1120, 0, 2],\n",
       "       [0.0, 1.0, 1150, 1, 1],\n",
       "       [0.0, 1.0, 1180, 6, 2],\n",
       "       [1.0, 0.0, 1210, 0, 1],\n",
       "       [0.0, 1.0, 1240, 0, 2],\n",
       "       [1.0, 0.0, 1270, 7, 1],\n",
       "       [1.0, 0.0, 1300, 10, 2],\n",
       "       [0.0, 1.0, 1330, 3, 2],\n",
       "       [0.0, 1.0, 1360, 3, 3],\n",
       "       [0.0, 1.0, 1390, 8, 3],\n",
       "       [1.0, 0.0, 1420, 3, 2],\n",
       "       [0.0, 1.0, 1450, 7, 2],\n",
       "       [0.0, 1.0, 1480, 8, 3],\n",
       "       [1.0, 0.0, 1510, 7, 2],\n",
       "       [1.0, 0.0, 1540, 6, 3],\n",
       "       [1.0, 0.0, 1570, 8, 3],\n",
       "       [1.0, 0.0, 1600, 6, 2],\n",
       "       [0.0, 1.0, 1630, 4, 3],\n",
       "       [0.0, 1.0, 1660, 1, 3],\n",
       "       [0.0, 1.0, 1690, 3, 3],\n",
       "       [1.0, 0.0, 1720, 3, 3],\n",
       "       [1.0, 0.0, 1750, 0, 2],\n",
       "       [1.0, 0.0, 1780, 4, 2],\n",
       "       [0.0, 1.0, 1810, 1, 3],\n",
       "       [1.0, 0.0, 1840, 6, 2],\n",
       "       [1.0, 0.0, 1870, 6, 3],\n",
       "       [0.0, 1.0, 1900, 8, 2],\n",
       "       [0.0, 1.0, 1930, 8, 2],\n",
       "       [0.0, 1.0, 1960, 0, 2],\n",
       "       [1.0, 0.0, 1990, 8, 2],\n",
       "       [0.0, 1.0, 2020, 0, 4],\n",
       "       [1.0, 0.0, 2050, 10, 3],\n",
       "       [1.0, 0.0, 2080, 9, 5],\n",
       "       [1.0, 0.0, 2110, 10, 3],\n",
       "       [0.0, 1.0, 2140, 7, 3],\n",
       "       [0.0, 1.0, 2170, 1, 4],\n",
       "       [1.0, 0.0, 2200, 4, 3],\n",
       "       [0.0, 1.0, 2230, 3, 3],\n",
       "       [1.0, 0.0, 2260, 8, 4],\n",
       "       [0.0, 1.0, 2290, 4, 4],\n",
       "       [0.0, 1.0, 2320, 2, 4],\n",
       "       [0.0, 1.0, 2350, 5, 4],\n",
       "       [0.0, 1.0, 2380, 10, 4],\n",
       "       [0.0, 1.0, 2410, 6, 4],\n",
       "       [0.0, 1.0, 2440, 9, 3],\n",
       "       [0.0, 1.0, 2470, 3, 3]], dtype=object)"
      ]
     },
     "execution_count": 5,
     "metadata": {},
     "output_type": "execute_result"
    }
   ],
   "source": [
    "from sklearn.preprocessing import LabelEncoder,OneHotEncoder\n",
    "from sklearn.compose import ColumnTransformer\n",
    "labelencoder_x=LabelEncoder()\n",
    "x[0:,3]=labelencoder_x.fit_transform(x[0:,3])\n",
    "ct=ColumnTransformer([('one_hot_encoder', OneHotEncoder('auto'), [3])], remainder='passthrough')\n",
    "x=ct.fit_transform(x)\n",
    "x"
   ]
  },
  {
   "cell_type": "code",
   "execution_count": 6,
   "metadata": {},
   "outputs": [],
   "source": [
    "from sklearn.model_selection import train_test_split\n",
    "x_train,x_test,y_train,y_test=train_test_split(x,y,train_size=0.8)"
   ]
  },
  {
   "cell_type": "code",
   "execution_count": 7,
   "metadata": {},
   "outputs": [
    {
     "data": {
      "text/plain": [
       "LinearRegression(copy_X=True, fit_intercept=True, n_jobs=None, normalize=False)"
      ]
     },
     "execution_count": 7,
     "metadata": {},
     "output_type": "execute_result"
    }
   ],
   "source": [
    "from sklearn.linear_model import LinearRegression\n",
    "linear=LinearRegression()\n",
    "model=linear.fit(x_train,y_train)\n",
    "model"
   ]
  },
  {
   "cell_type": "code",
   "execution_count": 8,
   "metadata": {},
   "outputs": [
    {
     "data": {
      "text/plain": [
       "array([[10261.09969146],\n",
       "       [16783.6496692 ],\n",
       "       [10688.12314932],\n",
       "       [ 7874.94886478],\n",
       "       [11554.59913278],\n",
       "       [ 4179.44154929],\n",
       "       [ 9518.66503006],\n",
       "       [12942.70424656],\n",
       "       [13699.00728567],\n",
       "       [ 9747.6888605 ],\n",
       "       [15918.12316192],\n",
       "       [10959.59124831],\n",
       "       [ 6603.04626674],\n",
       "       [10371.47269399],\n",
       "       [14655.0985638 ],\n",
       "       [18959.28208329],\n",
       "       [ 9659.31281761],\n",
       "       [ 8844.90852063],\n",
       "       [13545.64065477],\n",
       "       [ 9408.49208571],\n",
       "       [16814.1245124 ],\n",
       "       [13478.66139697],\n",
       "       [ 3364.08777613],\n",
       "       [16270.23883824],\n",
       "       [ 7998.79012866],\n",
       "       [15969.24537222],\n",
       "       [15286.61086286],\n",
       "       [13824.08780133],\n",
       "       [ 8777.92926283],\n",
       "       [ 5898.81491411],\n",
       "       [ 4921.12679269],\n",
       "       [ 7675.25034318],\n",
       "       [ 8528.05800711],\n",
       "       [ 9277.67177427],\n",
       "       [ 4039.74323792],\n",
       "       [12934.77572281],\n",
       "       [10591.6185245 ],\n",
       "       [11238.98787105],\n",
       "       [12495.0334216 ],\n",
       "       [ 4136.24786274]])"
      ]
     },
     "execution_count": 8,
     "metadata": {},
     "output_type": "execute_result"
    }
   ],
   "source": [
    "prediction=model.predict(x_train)\n",
    "prediction"
   ]
  },
  {
   "cell_type": "code",
   "execution_count": 9,
   "metadata": {},
   "outputs": [
    {
     "data": {
      "text/plain": [
       "array([[6022.65617798]])"
      ]
     },
     "execution_count": 9,
     "metadata": {},
     "output_type": "execute_result"
    }
   ],
   "source": [
    "input=[[0.0, 1.0, 1000, 7, 2]]\n",
    "ans=model.predict(input)\n",
    "ans"
   ]
  },
  {
   "cell_type": "code",
   "execution_count": 10,
   "metadata": {},
   "outputs": [
    {
     "data": {
      "text/plain": [
       "0.9447721894495485"
      ]
     },
     "execution_count": 10,
     "metadata": {},
     "output_type": "execute_result"
    }
   ],
   "source": [
    "r=model.score(x_train,y_train)\n",
    "r"
   ]
  },
  {
   "cell_type": "code",
   "execution_count": null,
   "metadata": {},
   "outputs": [],
   "source": []
  }
 ],
 "metadata": {
  "kernelspec": {
   "display_name": "Python 3",
   "language": "python",
   "name": "python3"
  },
  "language_info": {
   "codemirror_mode": {
    "name": "ipython",
    "version": 3
   },
   "file_extension": ".py",
   "mimetype": "text/x-python",
   "name": "python",
   "nbconvert_exporter": "python",
   "pygments_lexer": "ipython3",
   "version": "3.6.7"
  }
 },
 "nbformat": 4,
 "nbformat_minor": 2
}
