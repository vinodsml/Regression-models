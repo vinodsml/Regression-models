{
 "cells": [
  {
   "cell_type": "code",
   "execution_count": 1,
   "metadata": {},
   "outputs": [],
   "source": [
    "import numpy as np\n",
    "import pandas as pd\n",
    "import matplotlib.pyplot as plt"
   ]
  },
  {
   "cell_type": "code",
   "execution_count": 2,
   "metadata": {},
   "outputs": [
    {
     "data": {
      "text/html": [
       "<div>\n",
       "<style scoped>\n",
       "    .dataframe tbody tr th:only-of-type {\n",
       "        vertical-align: middle;\n",
       "    }\n",
       "\n",
       "    .dataframe tbody tr th {\n",
       "        vertical-align: top;\n",
       "    }\n",
       "\n",
       "    .dataframe thead th {\n",
       "        text-align: right;\n",
       "    }\n",
       "</style>\n",
       "<table border=\"1\" class=\"dataframe\">\n",
       "  <thead>\n",
       "    <tr style=\"text-align: right;\">\n",
       "      <th></th>\n",
       "      <th>AREA</th>\n",
       "      <th>FLOOR</th>\n",
       "      <th>ROOM</th>\n",
       "      <th>CODE</th>\n",
       "      <th>PRICE</th>\n",
       "    </tr>\n",
       "  </thead>\n",
       "  <tbody>\n",
       "    <tr>\n",
       "      <th>0</th>\n",
       "      <td>1000</td>\n",
       "      <td>7</td>\n",
       "      <td>2</td>\n",
       "      <td>B</td>\n",
       "      <td>5618</td>\n",
       "    </tr>\n",
       "    <tr>\n",
       "      <th>1</th>\n",
       "      <td>1030</td>\n",
       "      <td>7</td>\n",
       "      <td>1</td>\n",
       "      <td>A</td>\n",
       "      <td>5201</td>\n",
       "    </tr>\n",
       "    <tr>\n",
       "      <th>2</th>\n",
       "      <td>1060</td>\n",
       "      <td>1</td>\n",
       "      <td>1</td>\n",
       "      <td>A</td>\n",
       "      <td>4779</td>\n",
       "    </tr>\n",
       "    <tr>\n",
       "      <th>3</th>\n",
       "      <td>1090</td>\n",
       "      <td>6</td>\n",
       "      <td>1</td>\n",
       "      <td>A</td>\n",
       "      <td>5425</td>\n",
       "    </tr>\n",
       "    <tr>\n",
       "      <th>4</th>\n",
       "      <td>1120</td>\n",
       "      <td>0</td>\n",
       "      <td>2</td>\n",
       "      <td>B</td>\n",
       "      <td>5657</td>\n",
       "    </tr>\n",
       "  </tbody>\n",
       "</table>\n",
       "</div>"
      ],
      "text/plain": [
       "   AREA  FLOOR  ROOM CODE  PRICE\n",
       "0  1000      7     2    B   5618\n",
       "1  1030      7     1    A   5201\n",
       "2  1060      1     1    A   4779\n",
       "3  1090      6     1    A   5425\n",
       "4  1120      0     2    B   5657"
      ]
     },
     "execution_count": 2,
     "metadata": {},
     "output_type": "execute_result"
    }
   ],
   "source": [
    "dataset=pd.read_csv(\"housing_prices_MLR.csv\")\n",
    "dataset.head()"
   ]
  },
  {
   "cell_type": "code",
   "execution_count": 3,
   "metadata": {},
   "outputs": [
    {
     "data": {
      "text/plain": [
       "False"
      ]
     },
     "execution_count": 3,
     "metadata": {},
     "output_type": "execute_result"
    }
   ],
   "source": [
    "dataset.isnull().values.any()"
   ]
  },
  {
   "cell_type": "code",
   "execution_count": 4,
   "metadata": {},
   "outputs": [],
   "source": [
    "x=dataset.iloc[0:, 0:4]\n",
    "y=dataset.iloc[0:, 4:]\n",
    "x=x.values\n",
    "y=y.values\n"
   ]
  },
  {
   "cell_type": "markdown",
   "metadata": {},
   "source": [
    "# instead of OneHot did ColumnTransfer"
   ]
  },
  {
   "cell_type": "code",
   "execution_count": 5,
   "metadata": {},
   "outputs": [
    {
     "data": {
      "text/plain": [
       "array([[0.00e+00, 1.00e+00, 1.00e+03, 7.00e+00, 2.00e+00],\n",
       "       [1.00e+00, 0.00e+00, 1.03e+03, 7.00e+00, 1.00e+00],\n",
       "       [1.00e+00, 0.00e+00, 1.06e+03, 1.00e+00, 1.00e+00],\n",
       "       [1.00e+00, 0.00e+00, 1.09e+03, 6.00e+00, 1.00e+00],\n",
       "       [0.00e+00, 1.00e+00, 1.12e+03, 0.00e+00, 2.00e+00],\n",
       "       [0.00e+00, 1.00e+00, 1.15e+03, 1.00e+00, 1.00e+00],\n",
       "       [0.00e+00, 1.00e+00, 1.18e+03, 6.00e+00, 2.00e+00],\n",
       "       [1.00e+00, 0.00e+00, 1.21e+03, 0.00e+00, 1.00e+00],\n",
       "       [0.00e+00, 1.00e+00, 1.24e+03, 0.00e+00, 2.00e+00],\n",
       "       [1.00e+00, 0.00e+00, 1.27e+03, 7.00e+00, 1.00e+00],\n",
       "       [1.00e+00, 0.00e+00, 1.30e+03, 1.00e+01, 2.00e+00],\n",
       "       [0.00e+00, 1.00e+00, 1.33e+03, 3.00e+00, 2.00e+00],\n",
       "       [0.00e+00, 1.00e+00, 1.36e+03, 3.00e+00, 3.00e+00],\n",
       "       [0.00e+00, 1.00e+00, 1.39e+03, 8.00e+00, 3.00e+00],\n",
       "       [1.00e+00, 0.00e+00, 1.42e+03, 3.00e+00, 2.00e+00],\n",
       "       [0.00e+00, 1.00e+00, 1.45e+03, 7.00e+00, 2.00e+00],\n",
       "       [0.00e+00, 1.00e+00, 1.48e+03, 8.00e+00, 3.00e+00],\n",
       "       [1.00e+00, 0.00e+00, 1.51e+03, 7.00e+00, 2.00e+00],\n",
       "       [1.00e+00, 0.00e+00, 1.54e+03, 6.00e+00, 3.00e+00],\n",
       "       [1.00e+00, 0.00e+00, 1.57e+03, 8.00e+00, 3.00e+00],\n",
       "       [1.00e+00, 0.00e+00, 1.60e+03, 6.00e+00, 2.00e+00],\n",
       "       [0.00e+00, 1.00e+00, 1.63e+03, 4.00e+00, 3.00e+00],\n",
       "       [0.00e+00, 1.00e+00, 1.66e+03, 1.00e+00, 3.00e+00],\n",
       "       [0.00e+00, 1.00e+00, 1.69e+03, 3.00e+00, 3.00e+00],\n",
       "       [1.00e+00, 0.00e+00, 1.72e+03, 3.00e+00, 3.00e+00],\n",
       "       [1.00e+00, 0.00e+00, 1.75e+03, 0.00e+00, 2.00e+00],\n",
       "       [1.00e+00, 0.00e+00, 1.78e+03, 4.00e+00, 2.00e+00],\n",
       "       [0.00e+00, 1.00e+00, 1.81e+03, 1.00e+00, 3.00e+00],\n",
       "       [1.00e+00, 0.00e+00, 1.84e+03, 6.00e+00, 2.00e+00],\n",
       "       [1.00e+00, 0.00e+00, 1.87e+03, 6.00e+00, 3.00e+00],\n",
       "       [0.00e+00, 1.00e+00, 1.90e+03, 8.00e+00, 2.00e+00],\n",
       "       [0.00e+00, 1.00e+00, 1.93e+03, 8.00e+00, 2.00e+00],\n",
       "       [0.00e+00, 1.00e+00, 1.96e+03, 0.00e+00, 2.00e+00],\n",
       "       [1.00e+00, 0.00e+00, 1.99e+03, 8.00e+00, 2.00e+00],\n",
       "       [0.00e+00, 1.00e+00, 2.02e+03, 0.00e+00, 4.00e+00],\n",
       "       [1.00e+00, 0.00e+00, 2.05e+03, 1.00e+01, 3.00e+00],\n",
       "       [1.00e+00, 0.00e+00, 2.08e+03, 9.00e+00, 5.00e+00],\n",
       "       [1.00e+00, 0.00e+00, 2.11e+03, 1.00e+01, 3.00e+00],\n",
       "       [0.00e+00, 1.00e+00, 2.14e+03, 7.00e+00, 3.00e+00],\n",
       "       [0.00e+00, 1.00e+00, 2.17e+03, 1.00e+00, 4.00e+00],\n",
       "       [1.00e+00, 0.00e+00, 2.20e+03, 4.00e+00, 3.00e+00],\n",
       "       [0.00e+00, 1.00e+00, 2.23e+03, 3.00e+00, 3.00e+00],\n",
       "       [1.00e+00, 0.00e+00, 2.26e+03, 8.00e+00, 4.00e+00],\n",
       "       [0.00e+00, 1.00e+00, 2.29e+03, 4.00e+00, 4.00e+00],\n",
       "       [0.00e+00, 1.00e+00, 2.32e+03, 2.00e+00, 4.00e+00],\n",
       "       [0.00e+00, 1.00e+00, 2.35e+03, 5.00e+00, 4.00e+00],\n",
       "       [0.00e+00, 1.00e+00, 2.38e+03, 1.00e+01, 4.00e+00],\n",
       "       [0.00e+00, 1.00e+00, 2.41e+03, 6.00e+00, 4.00e+00],\n",
       "       [0.00e+00, 1.00e+00, 2.44e+03, 9.00e+00, 3.00e+00],\n",
       "       [0.00e+00, 1.00e+00, 2.47e+03, 3.00e+00, 3.00e+00]])"
      ]
     },
     "execution_count": 5,
     "metadata": {},
     "output_type": "execute_result"
    }
   ],
   "source": [
    "from sklearn.preprocessing import LabelEncoder,OneHotEncoder\n",
    "from sklearn.compose import ColumnTransformer\n",
    "labelencoder_x=LabelEncoder()\n",
    "x[0:,3]=labelencoder_x.fit_transform(x[0:,3])\n",
    "ct=ColumnTransformer([('one_hot_encoder', OneHotEncoder('auto'), [3])], remainder='passthrough')\n",
    "x=np.array(ct.fit_transform(x), dtype=np.float)\n",
    "x"
   ]
  },
  {
   "cell_type": "code",
   "execution_count": 6,
   "metadata": {},
   "outputs": [],
   "source": [
    "from sklearn.model_selection import train_test_split\n",
    "x_train,x_test,y_train,y_test=train_test_split(x,y,train_size=0.8)"
   ]
  },
  {
   "cell_type": "code",
   "execution_count": 7,
   "metadata": {},
   "outputs": [
    {
     "data": {
      "text/plain": [
       "LinearRegression(copy_X=True, fit_intercept=True, n_jobs=None, normalize=False)"
      ]
     },
     "execution_count": 7,
     "metadata": {},
     "output_type": "execute_result"
    }
   ],
   "source": [
    "from sklearn.linear_model import LinearRegression\n",
    "linear=LinearRegression()\n",
    "model=linear.fit(x_train,y_train)\n",
    "model"
   ]
  },
  {
   "cell_type": "code",
   "execution_count": 8,
   "metadata": {},
   "outputs": [
    {
     "data": {
      "text/plain": [
       "array([[ 9688.45160367],\n",
       "       [ 5796.36525724],\n",
       "       [15948.76088502],\n",
       "       [ 9228.84562356],\n",
       "       [10106.27743223],\n",
       "       [10524.64650052],\n",
       "       [13189.89055843],\n",
       "       [11797.68103626],\n",
       "       [10183.40064726],\n",
       "       [10733.69522473],\n",
       "       [ 8532.19762276],\n",
       "       [ 4152.51199975],\n",
       "       [ 7050.38598267],\n",
       "       [ 9766.66129814],\n",
       "       [10481.77986954],\n",
       "       [10892.79917083],\n",
       "       [16296.81326556],\n",
       "       [ 8811.56303472],\n",
       "       [15759.26921085],\n",
       "       [ 7488.04048113],\n",
       "       [ 4292.60213552],\n",
       "       [15600.98012434],\n",
       "       [12911.34000605],\n",
       "       [13240.65019613],\n",
       "       [11151.79267316],\n",
       "       [ 4063.7247414 ],\n",
       "       [ 9646.39983227],\n",
       "       [15600.70850448],\n",
       "       [ 7417.45217353],\n",
       "       [ 8183.87362236],\n",
       "       [10265.65299819],\n",
       "       [14354.85240565],\n",
       "       [10543.9319307 ],\n",
       "       [ 9201.66718666],\n",
       "       [13190.70541801],\n",
       "       [ 6562.51508621],\n",
       "       [14835.10191523],\n",
       "       [ 6424.05466961],\n",
       "       [ 3943.46327553],\n",
       "       [ 7885.49440008]])"
      ]
     },
     "execution_count": 8,
     "metadata": {},
     "output_type": "execute_result"
    }
   ],
   "source": [
    "prediction=model.predict(x_train)\n",
    "prediction"
   ]
  },
  {
   "cell_type": "code",
   "execution_count": 9,
   "metadata": {},
   "outputs": [
    {
     "data": {
      "text/plain": [
       "array([[5796.36525724]])"
      ]
     },
     "execution_count": 9,
     "metadata": {},
     "output_type": "execute_result"
    }
   ],
   "source": [
    "input=[[0.0, 1.0, 1000, 7, 2]]\n",
    "ans=model.predict(input)\n",
    "ans"
   ]
  },
  {
   "cell_type": "code",
   "execution_count": 10,
   "metadata": {},
   "outputs": [
    {
     "data": {
      "text/plain": [
       "0.9636736030414367"
      ]
     },
     "execution_count": 10,
     "metadata": {},
     "output_type": "execute_result"
    }
   ],
   "source": [
    "r=model.score(x_train,y_train)\n",
    "r"
   ]
  },
  {
   "cell_type": "code",
   "execution_count": null,
   "metadata": {},
   "outputs": [],
   "source": []
  }
 ],
 "metadata": {
  "kernelspec": {
   "display_name": "Python 3",
   "language": "python",
   "name": "python3"
  },
  "language_info": {
   "codemirror_mode": {
    "name": "ipython",
    "version": 3
   },
   "file_extension": ".py",
   "mimetype": "text/x-python",
   "name": "python",
   "nbconvert_exporter": "python",
   "pygments_lexer": "ipython3",
   "version": "3.6.7"
  }
 },
 "nbformat": 4,
 "nbformat_minor": 2
}
